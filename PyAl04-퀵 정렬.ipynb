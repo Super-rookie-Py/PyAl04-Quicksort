{
 "cells": [
  {
   "cell_type": "markdown",
   "metadata": {},
   "source": [
    "# 강의노트\n",
    "\n",
    "### 파이썬 알고리즘 공부 퀵 정렬 \n",
    "#### 2020/04/10 keonwoo park "
   ]
  },
  {
   "cell_type": "markdown",
   "metadata": {},
   "source": [
    "#### 퀵 정렬은 대표적인 분할 정복 알고리즘으로 평균 속도가\n",
    "#### O(N*logN) 로그 N은 거의 상수로 봐도 무방. 엄청작은 수."
   ]
  },
  {
   "cell_type": "markdown",
   "metadata": {},
   "source": [
    "### 특정한 값을 기준으로 큰 숫자와 작은 숫자를 나누면 어떨까?"
   ]
  },
  {
   "cell_type": "markdown",
   "metadata": {},
   "source": [
    "#### 기준 값 피벗이라고 한다. 특정한 피벗값을 기준으로 왼쪽과\n",
    "#### 오른 쪽을 나눠서 생각한다."
   ]
  },
  {
   "cell_type": "markdown",
   "metadata": {},
   "source": [
    "#### 보통 피벗값은 제일 첫번째 값을 정한다.\n",
    "#### 피벗값을 기준으로 왼쪽에서 피벗값보다 큰 값을,\n",
    "#### 오른쪽에서 피벗값 보다 작은 값을 찾아서 서로 바꿔준다."
   ]
  },
  {
   "cell_type": "markdown",
   "metadata": {},
   "source": [
    "#### 작은값의 인덱스가 큰값의 인덱스보다 작은 경우 작은값과\n",
    "#### 피벗값을 변경해 준다. -> 3을 기준으로 왼쪽에는 작은 값,\n",
    "#### 오른쪽은 큰 값으로 분할 된다."
   ]
  },
  {
   "cell_type": "code",
   "execution_count": 90,
   "metadata": {},
   "outputs": [],
   "source": [
    "my_list = [3, 7, 8, 1, 5, 9, 6, 10, 2, 4]"
   ]
  },
  {
   "cell_type": "code",
   "execution_count": 141,
   "metadata": {},
   "outputs": [],
   "source": [
    "n = len(my_list)\n",
    "piv = my_list[0]"
   ]
  },
  {
   "cell_type": "code",
   "execution_count": 140,
   "metadata": {},
   "outputs": [
    {
     "name": "stdout",
     "output_type": "stream",
     "text": [
      "piv: 변경 됬나? 3\n",
      "첫번째:  3\n",
      "piv: 변경 됬나? 3\n",
      "첫번째:  7\n",
      "두번째:  2\n",
      "중간과정:  [3, 2, 8, 1, 5, 9, 6, 10, 7, 4]\n",
      "piv: 변경 됬나? 3\n",
      "첫번째:  8\n",
      "두번째:  1\n",
      "중간과정:  [3, 2, 1, 8, 5, 9, 6, 10, 7, 4]\n",
      "piv: 변경 됬나? 3\n",
      "첫번째:  8\n",
      "piv: 변경 됬나? 2\n",
      "첫번째:  5\n",
      "piv: 변경 됬나? 1\n",
      "첫번째:  9\n",
      "piv: 변경 됬나? 1\n",
      "첫번째:  6\n",
      "piv: 변경 됬나? 1\n",
      "첫번째:  10\n",
      "piv: 변경 됬나? 1\n",
      "첫번째:  7\n",
      "piv: 변경 됬나? 1\n",
      "첫번째:  4\n",
      "[1, 2, 3, 8, 5, 9, 6, 10, 7, 4]\n"
     ]
    }
   ],
   "source": [
    "for i in range(n):\n",
    "    print(\"piv: 변경 됬나?\",piv)\n",
    "    print(\"첫번째: \",my_list[i] )\n",
    "    if piv < my_list[i]:\n",
    "        for j in range(n-1, 0, -1):\n",
    "            if piv > my_list[j]:\n",
    "                if i > j :\n",
    "                    my_list[j], my_list[0] = my_list[0] , my_list[j]\n",
    "                else:\n",
    "                    print(\"두번째: \", my_list[j])\n",
    "                    my_list[i], my_list[j] = my_list[j], my_list[i]\n",
    "                    print(\"중간과정: \",my_list)\n",
    "                    break\n",
    "print(my_list)\n",
    "                \n",
    "### 어렵네,,,"
   ]
  },
  {
   "cell_type": "code",
   "execution_count": 95,
   "metadata": {},
   "outputs": [],
   "source": [
    "#와.. 이걸 해냈다..답은 재귀함수.\n",
    "\n",
    "data = [3, 7, 8, 1, 5, 9, 6, 10, 2, 4]\n",
    "n = len(data)\n",
    "\n",
    "def quicksort(data, start, end):\n",
    "    \n",
    "    piv = start\n",
    "    i = start + 1\n",
    "    j = end\n",
    "    \n",
    "    if len(data) > 1: #원소가 1개인 경우\n",
    "        while i <= j :\n",
    "            \n",
    "            while data[i] < data[piv] and i <len(data)-1:\n",
    "                i = i + 1\n",
    "                \n",
    "            while data[j] > data[piv] and j > start:\n",
    "                j = j - 1\n",
    "            if i >= j:\n",
    "                print(\"세번째p: \", data[piv])\n",
    "                data[j], data[piv] = data[piv], data[j]\n",
    "                print(\"네번째p:\", data[piv])\n",
    "                print(\"마지막과정:\", data)\n",
    "                print(\"i: \",i, \"j: \", j)\n",
    "                print(\"piv\",data[piv], \"pipindex :\", piv)\n",
    "                quicksort(data, start, j-1)\n",
    "                quicksort(data, j+1, n-1)\n",
    "            else:\n",
    "                print(\"첫번째I: \", data[i])\n",
    "                print(\"두번째j: \", data[j])\n",
    "                data[i], data[j] = data[j], data[i]               \n",
    "                print(\"중간과정: \", data)\n",
    "                print(\"i: \",i, \"j: \", j)\n",
    "                print(\"piv\",data[piv], \"pipindex :\", piv)\n",
    "                \n",
    "    else:\n",
    "        return\n",
    "        "
   ]
  },
  {
   "cell_type": "code",
   "execution_count": 96,
   "metadata": {},
   "outputs": [
    {
     "name": "stdout",
     "output_type": "stream",
     "text": [
      "첫번째I:  7\n",
      "두번째j:  2\n",
      "중간과정:  [3, 2, 8, 1, 5, 9, 6, 10, 7, 4]\n",
      "i:  1 j:  8\n",
      "piv 3 pipindex : 0\n",
      "첫번째I:  8\n",
      "두번째j:  1\n",
      "중간과정:  [3, 2, 1, 8, 5, 9, 6, 10, 7, 4]\n",
      "i:  2 j:  3\n",
      "piv 3 pipindex : 0\n",
      "세번째p:  3\n",
      "네번째p: 1\n",
      "마지막과정: [1, 2, 3, 8, 5, 9, 6, 10, 7, 4]\n",
      "i:  3 j:  2\n",
      "piv 1 pipindex : 0\n",
      "세번째p:  1\n",
      "네번째p: 1\n",
      "마지막과정: [1, 2, 3, 8, 5, 9, 6, 10, 7, 4]\n",
      "i:  1 j:  0\n",
      "piv 1 pipindex : 0\n",
      "세번째p:  2\n",
      "네번째p: 2\n",
      "마지막과정: [1, 2, 3, 8, 5, 9, 6, 10, 7, 4]\n",
      "i:  2 j:  1\n",
      "piv 2 pipindex : 1\n",
      "세번째p:  3\n",
      "네번째p: 3\n",
      "마지막과정: [1, 2, 3, 8, 5, 9, 6, 10, 7, 4]\n",
      "i:  3 j:  2\n",
      "piv 3 pipindex : 2\n",
      "첫번째I:  9\n",
      "두번째j:  4\n",
      "중간과정:  [1, 2, 3, 8, 5, 4, 6, 10, 7, 9]\n",
      "i:  5 j:  9\n",
      "piv 8 pipindex : 3\n",
      "첫번째I:  10\n",
      "두번째j:  7\n",
      "중간과정:  [1, 2, 3, 8, 5, 4, 6, 7, 10, 9]\n",
      "i:  7 j:  8\n",
      "piv 8 pipindex : 3\n",
      "세번째p:  8\n",
      "네번째p: 7\n",
      "마지막과정: [1, 2, 3, 7, 5, 4, 6, 8, 10, 9]\n",
      "i:  8 j:  7\n",
      "piv 7 pipindex : 3\n",
      "세번째p:  7\n",
      "네번째p: 6\n",
      "마지막과정: [1, 2, 3, 6, 5, 4, 7, 8, 10, 9]\n",
      "i:  7 j:  6\n",
      "piv 6 pipindex : 3\n",
      "세번째p:  6\n",
      "네번째p: 4\n",
      "마지막과정: [1, 2, 3, 4, 5, 6, 7, 8, 10, 9]\n",
      "i:  6 j:  5\n",
      "piv 4 pipindex : 3\n",
      "세번째p:  4\n",
      "네번째p: 4\n",
      "마지막과정: [1, 2, 3, 4, 5, 6, 7, 8, 10, 9]\n",
      "i:  4 j:  3\n",
      "piv 4 pipindex : 3\n",
      "세번째p:  5\n",
      "네번째p: 5\n",
      "마지막과정: [1, 2, 3, 4, 5, 6, 7, 8, 10, 9]\n",
      "i:  5 j:  4\n",
      "piv 5 pipindex : 4\n",
      "세번째p:  6\n",
      "네번째p: 6\n",
      "마지막과정: [1, 2, 3, 4, 5, 6, 7, 8, 10, 9]\n",
      "i:  6 j:  5\n",
      "piv 6 pipindex : 5\n",
      "세번째p:  7\n",
      "네번째p: 7\n",
      "마지막과정: [1, 2, 3, 4, 5, 6, 7, 8, 10, 9]\n",
      "i:  7 j:  6\n",
      "piv 7 pipindex : 6\n",
      "세번째p:  8\n",
      "네번째p: 8\n",
      "마지막과정: [1, 2, 3, 4, 5, 6, 7, 8, 10, 9]\n",
      "i:  8 j:  7\n",
      "piv 8 pipindex : 7\n",
      "세번째p:  10\n",
      "네번째p: 9\n",
      "마지막과정: [1, 2, 3, 4, 5, 6, 7, 8, 9, 10]\n",
      "i:  9 j:  9\n",
      "piv 9 pipindex : 8\n",
      "세번째p:  9\n",
      "네번째p: 9\n",
      "마지막과정: [1, 2, 3, 4, 5, 6, 7, 8, 9, 10]\n",
      "i:  9 j:  8\n",
      "piv 9 pipindex : 8\n",
      "세번째p:  7\n",
      "네번째p: 7\n",
      "마지막과정: [1, 2, 3, 4, 5, 6, 7, 8, 9, 10]\n",
      "i:  7 j:  6\n",
      "piv 7 pipindex : 6\n",
      "세번째p:  8\n",
      "네번째p: 8\n",
      "마지막과정: [1, 2, 3, 4, 5, 6, 7, 8, 9, 10]\n",
      "i:  8 j:  7\n",
      "piv 8 pipindex : 7\n",
      "세번째p:  9\n",
      "네번째p: 9\n",
      "마지막과정: [1, 2, 3, 4, 5, 6, 7, 8, 9, 10]\n",
      "i:  9 j:  8\n",
      "piv 9 pipindex : 8\n",
      "세번째p:  8\n",
      "네번째p: 8\n",
      "마지막과정: [1, 2, 3, 4, 5, 6, 7, 8, 9, 10]\n",
      "i:  8 j:  7\n",
      "piv 8 pipindex : 7\n",
      "세번째p:  9\n",
      "네번째p: 9\n",
      "마지막과정: [1, 2, 3, 4, 5, 6, 7, 8, 9, 10]\n",
      "i:  9 j:  8\n",
      "piv 9 pipindex : 8\n",
      "세번째p:  9\n",
      "네번째p: 9\n",
      "마지막과정: [1, 2, 3, 4, 5, 6, 7, 8, 9, 10]\n",
      "i:  9 j:  8\n",
      "piv 9 pipindex : 8\n",
      "세번째p:  4\n",
      "네번째p: 4\n",
      "마지막과정: [1, 2, 3, 4, 5, 6, 7, 8, 9, 10]\n",
      "i:  4 j:  3\n",
      "piv 4 pipindex : 3\n",
      "세번째p:  5\n",
      "네번째p: 5\n",
      "마지막과정: [1, 2, 3, 4, 5, 6, 7, 8, 9, 10]\n",
      "i:  5 j:  4\n",
      "piv 5 pipindex : 4\n",
      "세번째p:  6\n",
      "네번째p: 6\n",
      "마지막과정: [1, 2, 3, 4, 5, 6, 7, 8, 9, 10]\n",
      "i:  6 j:  5\n",
      "piv 6 pipindex : 5\n",
      "세번째p:  7\n",
      "네번째p: 7\n",
      "마지막과정: [1, 2, 3, 4, 5, 6, 7, 8, 9, 10]\n",
      "i:  7 j:  6\n",
      "piv 7 pipindex : 6\n",
      "세번째p:  8\n",
      "네번째p: 8\n",
      "마지막과정: [1, 2, 3, 4, 5, 6, 7, 8, 9, 10]\n",
      "i:  8 j:  7\n",
      "piv 8 pipindex : 7\n",
      "세번째p:  9\n",
      "네번째p: 9\n",
      "마지막과정: [1, 2, 3, 4, 5, 6, 7, 8, 9, 10]\n",
      "i:  9 j:  8\n",
      "piv 9 pipindex : 8\n"
     ]
    }
   ],
   "source": [
    "quicksort(data, 0, 9)"
   ]
  },
  {
   "cell_type": "markdown",
   "metadata": {},
   "source": [
    "#### 퀵 정렬의 평균 시간 복잡도는 O(N*logN) 입니다.\n",
    "#### 피벗값에 따라서 최악의 경우 시간 복잡도는 O(N^2) 입니다."
   ]
  },
  {
   "cell_type": "markdown",
   "metadata": {},
   "source": [
    "#### 실제 대회에서 O(N*logN)을 요구하는 경우 퀵정렬을 이용해서 틀릴때가있다.\n",
    "#### 이미 정렬이 되어있는 경우 분할정렬의 이점을 사용 못한다."
   ]
  },
  {
   "cell_type": "markdown",
   "metadata": {},
   "source": [
    "#### 거의 정렬이 되있는 경우에는 삽입정렬이 더 빠르다."
   ]
  }
 ],
 "metadata": {
  "kernelspec": {
   "display_name": "Python 3",
   "language": "python",
   "name": "python3"
  },
  "language_info": {
   "codemirror_mode": {
    "name": "ipython",
    "version": 3
   },
   "file_extension": ".py",
   "mimetype": "text/x-python",
   "name": "python",
   "nbconvert_exporter": "python",
   "pygments_lexer": "ipython3",
   "version": "3.6.2"
  }
 },
 "nbformat": 4,
 "nbformat_minor": 4
}
